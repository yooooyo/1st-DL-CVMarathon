{
 "cells": [
  {
   "cell_type": "markdown",
   "metadata": {},
   "source": [
    "# 作業\n",
    "- 新增一個欄位 `customized_age_grp`，把 `age` 分為 (0, 10], (10, 20], (20, 30], (30, 50], (50, 100] 這五組，\n",
    "'(' 表示不包含, ']' 表示包含  \n",
    "- Hints: 執行 ??pd.cut()，了解提供其中 bins 這個參數的使用方式"
   ]
  },
  {
   "cell_type": "markdown",
   "metadata": {},
   "source": [
    "# [作業目標]\n",
    "- 請同學試著查詢 pandas.cut 這個函數還有哪些參數, 藉由改動參數以達成目標\n",
    "- 藉由查詢與改動參數的過程, 熟悉查詢函數的方法與理解參數性質, 並了解數值的離散化的調整工具"
   ]
  },
  {
   "cell_type": "markdown",
   "metadata": {},
   "source": [
    "# [作業重點]\n",
    "- 仿照 In[3], In[4] 的語法, 並設定 pd.cut 的參數以指定間距"
   ]
  },
  {
   "cell_type": "code",
   "execution_count": 1,
   "metadata": {},
   "outputs": [],
   "source": [
    "# 載入套件\n",
    "import os\n",
    "import numpy as np\n",
    "import pandas as pd\n",
    "\n",
    "import matplotlib.pyplot as plt\n",
    "%matplotlib inline"
   ]
  },
  {
   "cell_type": "code",
   "execution_count": 2,
   "metadata": {},
   "outputs": [],
   "source": [
    "# 初始設定 Ages 的資料\n",
    "ages = pd.DataFrame({\"age\": [18,22,25,27,7,21,23,37,30,61,45,41,9,18,80,100]})"
   ]
  },
  {
   "cell_type": "markdown",
   "metadata": {},
   "source": [
    "#### 等寬劃分"
   ]
  },
  {
   "cell_type": "code",
   "execution_count": 3,
   "metadata": {},
   "outputs": [],
   "source": [
    "# 新增欄位 \"equal_width_age\", 對年齡做等寬劃分\n",
    "ages[\"equal_width_age\"] = pd.cut(ages[\"age\"], 4)"
   ]
  },
  {
   "cell_type": "code",
   "execution_count": 4,
   "metadata": {},
   "outputs": [
    {
     "data": {
      "text/plain": [
       "(6.907, 30.25]    10\n",
       "(30.25, 53.5]      3\n",
       "(76.75, 100.0]     2\n",
       "(53.5, 76.75]      1\n",
       "Name: equal_width_age, dtype: int64"
      ]
     },
     "execution_count": 4,
     "metadata": {},
     "output_type": "execute_result"
    }
   ],
   "source": [
    "# 觀察等寬劃分下, 每個種組距各出現幾次\n",
    "ages[\"equal_width_age\"].value_counts() # 每個 bin 的值的範圍大小都是一樣的"
   ]
  },
  {
   "cell_type": "markdown",
   "metadata": {},
   "source": [
    "#### 等頻劃分"
   ]
  },
  {
   "cell_type": "code",
   "execution_count": 5,
   "metadata": {},
   "outputs": [],
   "source": [
    "# 新增欄位 \"equal_freq_age\", 對年齡做等頻劃分\n",
    "ages[\"equal_freq_age\"] = pd.qcut(ages[\"age\"], 4)"
   ]
  },
  {
   "cell_type": "code",
   "execution_count": 6,
   "metadata": {},
   "outputs": [
    {
     "data": {
      "text/plain": [
       "(42.0, 100.0]     4\n",
       "(26.0, 42.0]      4\n",
       "(20.25, 26.0]     4\n",
       "(6.999, 20.25]    4\n",
       "Name: equal_freq_age, dtype: int64"
      ]
     },
     "execution_count": 6,
     "metadata": {},
     "output_type": "execute_result"
    }
   ],
   "source": [
    "# 觀察等頻劃分下, 每個種組距各出現幾次\n",
    "ages[\"equal_freq_age\"].value_counts() # 每個 bin 的資料筆數是一樣的"
   ]
  },
  {
   "cell_type": "markdown",
   "metadata": {},
   "source": [
    "### pd.qcut(x, q, labels=None, retbins=False, precision=3, duplicates='raise')\n",
    "\n",
    "#### Parameters\n",
    "----------\n",
    "> x : 1d ndarray or Series\n",
    "\n",
    "> q : integer or array of quantiles\n",
    ">     Number of quantiles. 10 for deciles, 4 for quartiles, etc. Alternately\n",
    ">     array of quantiles, e.g. [0, .25, .5, .75, 1.] for quartiles\n",
    "\n",
    "> labels : array or boolean, default None\n",
    ">     Used as labels for the resulting bins. Must be of the same length as\n",
    ">     the resulting bins. If False, return only integer indicators of the\n",
    ">     bins.\n",
    "\n",
    "> retbins : bool, optional\n",
    ">     Whether to return the (bins, labels) or not. Can be useful if bins\n",
    ">     is given as a scalar.\n",
    "\n",
    "> precision : int, optional\n",
    ">     The precision at which to store and display the bins labels\n",
    "\n",
    "> duplicates : {default 'raise', 'drop'}, optional\n",
    ">     If bin edges are not unique, raise ValueError or drop non-uniques.\n",
    "\n",
    "    .. versionadded:: 0.20.0\n",
    "\n",
    "Returns\n",
    "-------\n",
    "> out : Categorical or Series or array of integers if labels is False\n",
    ">     The return type (Categorical or Series) depends on the input: a Series\n",
    ">     of type category if input is a Series else Categorical. Bins are\n",
    ">     represented as categories when categorical data is returned.\n",
    "\n",
    "> bins : ndarray of floats\n",
    ">     Returned only if `retbins` is True.\n",
    "\n",
    "Notes\n",
    "-----\n",
    "> Out of bounds values will be NA in the resulting Categorical object\n",
    "\n",
    "Examples\n",
    "--------\n",
    "``` python\n",
    ">>> pd.qcut(range(5), 4)\n",
    "... # doctest: +ELLIPSIS\n",
    "[(-0.001, 1.0], (-0.001, 1.0], (1.0, 2.0], (2.0, 3.0], (3.0, 4.0]]\n",
    "Categories (4, interval[float64]): [(-0.001, 1.0] < (1.0, 2.0] ...\n",
    "\n",
    ">>> pd.qcut(range(5), 3, labels=[\"good\", \"medium\", \"bad\"])\n",
    "... # doctest: +SKIP\n",
    "[good, good, medium, bad, bad]\n",
    "Categories (3, object): [good < medium < bad]\n",
    "\n",
    ">>> pd.qcut(range(5), 4, labels=False)\n",
    "array([0, 0, 1, 2, 3])\n",
    "```"
   ]
  },
  {
   "cell_type": "code",
   "execution_count": 10,
   "metadata": {},
   "outputs": [
    {
     "data": {
      "text/plain": [
       "(20, 30]     6\n",
       "(50, 100]    3\n",
       "(30, 50]     3\n",
       "(10, 20]     2\n",
       "(0, 10]      2\n",
       "Name: customized_age_grp, dtype: int64"
      ]
     },
     "execution_count": 10,
     "metadata": {},
     "output_type": "execute_result"
    }
   ],
   "source": [
    "ages['customized_age_grp'] = pd.cut(ages[\"age\"],bins=[0,10,20,30,50,100])\n",
    "ages['customized_age_grp'].value_count()"
   ]
  },
  {
   "cell_type": "code",
   "execution_count": null,
   "metadata": {},
   "outputs": [],
   "source": []
  }
 ],
 "metadata": {
  "kernelspec": {
   "display_name": "Python 3",
   "language": "python",
   "name": "python3"
  },
  "language_info": {
   "codemirror_mode": {
    "name": "ipython",
    "version": 3
   },
   "file_extension": ".py",
   "mimetype": "text/x-python",
   "name": "python",
   "nbconvert_exporter": "python",
   "pygments_lexer": "ipython3",
   "version": "3.7.3"
  }
 },
 "nbformat": 4,
 "nbformat_minor": 4
}
